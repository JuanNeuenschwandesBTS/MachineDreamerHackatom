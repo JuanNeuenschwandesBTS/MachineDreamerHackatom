{
 "cells": [
  {
   "cell_type": "code",
   "execution_count": 37,
   "metadata": {},
   "outputs": [],
   "source": [
    "# Imports\n",
    "import pandas as pd\n",
    "from statsmodels.tsa.arima.model import ARIMA\n",
    "import itertools\n",
    "import warnings\n",
    "import matplotlib.pyplot as plt\n",
    "import seaborn as sns\n",
    "import numpy as np\n",
    "import statsmodels.api as sm\n",
    "from statsmodels.tsa.arima.model import ARIMA\n",
    "import pickle\n",
    "\n",
    "import statsmodels.api as sm\n",
    "from statsmodels.tsa.stattools import adfuller, acf, pacf\n",
    "from statsmodels.graphics.tsaplots import plot_acf, plot_pacf\n",
    "from statsmodels.tsa.seasonal import seasonal_decompose\n",
    "from statsmodels.tsa.statespace.sarimax import SARIMAX"
   ]
  },
  {
   "cell_type": "markdown",
   "metadata": {},
   "source": [
    "# Modeling"
   ]
  },
  {
   "cell_type": "markdown",
   "metadata": {},
   "source": [
    "In this notebook, we are taking the output from 3_EDA to start doing the modeling. To recap on the missing steps, we will:\n",
    "\n",
    "#### `3. Model Selection`\n",
    "Given the nature the data, we might consider the following models:\n",
    "- **ARIMA/SARIMA**: If your data shows trends or autocorrelation. SARIMA is suitable if there is a clear seasonal pattern.\n",
    "- **Prophet**: Handles daily data well, robust to missing data, and good with seasonality.\n",
    "- **Machine Learning Approaches**: If there are other factors that can predict 'quantity', a model like Random Forest or Gradient Boosting might be useful.\n",
    "\n",
    "#### 4. Model Training and Forecasting\n",
    "- **Training**: Training the yearly data.\n",
    "- **Forecasting**: Generate predictions for the upcomming days.\n",
    "- **Hyperparameter Tuning**: Optimize model parameters for best performance.\n",
    "\n",
    "#### 5. Model Evaluation\n",
    "- **Performance Metrics**: Evaluate the model using appropriate metrics.\n",
    "- **Cross-Validation**: If possible, use time series cross-validation."
   ]
  },
  {
   "cell_type": "markdown",
   "metadata": {},
   "source": [
    "Here's a general approach to fitting an ARIMA model:\n",
    "\n",
    "Selecting Model Orders: You need to choose the SARIMA model orders. These include the non-seasonal parameters (p, d, q) and the seasonal. Since you've detrended the data, d might be 0 or 1 depending on if the data needs further differencing to achieve stationarity. The seasonal parameters will incorporate the seasonality you've observed.\n",
    "\n",
    "Seasonal Period (s): This is the seasonality of the data. In your case, if the seasonality is twice per month, you've already calculated the seasonal period to be approximately 365 hours.\n",
    "\n",
    "Parameter Estimation: Use the ACF and PACF plots of the detrended data to estimate the initial ARIMA parameters. You can also use grid search methods to test different combinations of parameters and select the best model based on some criteria like the AIC (Akaike Information Criterion).\n",
    "\n",
    "Model Diagnostics: After fitting the model, check the diagnostics to ensure that the residuals of your model are white noise (no autocorrelation)."
   ]
  },
  {
   "cell_type": "markdown",
   "metadata": {},
   "source": [
    "# Modeling by Country"
   ]
  },
  {
   "cell_type": "markdown",
   "metadata": {},
   "source": [
    "We will do a separate model for each country taking the signla processed from the last EDA step."
   ]
  },
  {
   "cell_type": "code",
   "execution_count": 6,
   "metadata": {},
   "outputs": [],
   "source": [
    "# Parsing date strings, ignoring any timezone information and converting them to datetime objects\n",
    "date_parser = lambda x: pd.to_datetime(x[:22])"
   ]
  },
  {
   "cell_type": "markdown",
   "metadata": {},
   "source": [
    "## SPAIN Model"
   ]
  },
  {
   "cell_type": "code",
   "execution_count": 19,
   "metadata": {},
   "outputs": [],
   "source": [
    "# Spain model\n",
    "model_spain_df = pd.read_csv(\"../3_EDA/EDA_countries/EDA_SP.csv\", \n",
    "                     converters={'EndTime': date_parser}).set_index('EndTime').dropna()"
   ]
  },
  {
   "cell_type": "markdown",
   "metadata": {},
   "source": [
    "Initial Model"
   ]
  },
  {
   "cell_type": "code",
   "execution_count": 29,
   "metadata": {},
   "outputs": [],
   "source": [
    "warnings.filterwarnings(\"ignore\")\n",
    "\n",
    "p = 1  # replace with actual\n",
    "d = 1  # replace with actual\n",
    "q = 1  # replace with actual\n",
    "\n",
    "# Fit the ARIMA model (using the known part of the time series)\n",
    "model = ARIMA(model_spain_df['detrended'], order=(p, d, q))\n",
    "model_fit = model.fit()\n",
    "\n",
    "# Forecast the missing values\n",
    "# The 'steps' argument would be the number of hours in the missing months\n",
    "forecast = model_fit.get_forecast(steps=1000) #hours in a monyh\n",
    "\n",
    "# The forecast object contains the predicted values and other information\n",
    "forecasted_values = forecast.predicted_mean\n",
    "\n",
    "# You may also want to extract the confidence intervals of the forecasts\n",
    "conf_int = forecast.conf_int()"
   ]
  },
  {
   "cell_type": "markdown",
   "metadata": {},
   "source": [
    "Hyperparameter Tunning"
   ]
  },
  {
   "cell_type": "code",
   "execution_count": 22,
   "metadata": {},
   "outputs": [
    {
     "name": "stdout",
     "output_type": "stream",
     "text": [
      "Best ARIMA(2, 1, 2) AIC: 155864.65620640424\n"
     ]
    }
   ],
   "source": [
    "warnings.filterwarnings(\"ignore\")\n",
    "\n",
    "# Assuming model_spain_df is your DataFrame with 'surplus' as the column\n",
    "\n",
    "# Define the p, d, and q ranges\n",
    "p = d = q = range(0, 3)  # Example ranges; you can adjust these\n",
    "\n",
    "# Generate all different combinations of p, d, and q triplets\n",
    "pdq = list(itertools.product(p, d, q))\n",
    "\n",
    "best_aic = float(\"inf\")\n",
    "best_order = None\n",
    "best_model = None\n",
    "\n",
    "for order in pdq:\n",
    "    try:\n",
    "        model = ARIMA(model_spain_df['detrended'], order=order)\n",
    "        model_fit = model.fit()\n",
    "        if model_fit.aic < best_aic:\n",
    "            best_aic = model_fit.aic\n",
    "            best_order = order\n",
    "            best_model = model_fit\n",
    "    except:\n",
    "        continue\n",
    "\n",
    "print(f'Best ARIMA{best_order} AIC: {best_aic}')\n",
    "\n",
    "# Use best_model for forecasts\n",
    "forecast = best_model.get_forecast(steps=1)  # Adjust 'steps' as needed\n",
    "forecasted_values = forecast.predicted_mean\n",
    "conf_int = forecast.conf_int()\n"
   ]
  },
  {
   "cell_type": "code",
   "execution_count": 38,
   "metadata": {},
   "outputs": [],
   "source": [
    "# Open a file in write binary mode\n",
    "with open('../models/best_arima_model_SP.pkl', 'wb') as file:\n",
    "    pickle.dump(best_model, file)"
   ]
  },
  {
   "cell_type": "markdown",
   "metadata": {},
   "source": [
    "## POLAND Model"
   ]
  },
  {
   "cell_type": "markdown",
   "metadata": {},
   "source": [
    "## DENMARK Model"
   ]
  },
  {
   "cell_type": "markdown",
   "metadata": {},
   "source": [
    "## SWEEDEN Model"
   ]
  },
  {
   "cell_type": "markdown",
   "metadata": {},
   "source": [
    "## NETHERLANDS Model"
   ]
  },
  {
   "cell_type": "markdown",
   "metadata": {},
   "source": [
    "## GERMANY Model"
   ]
  },
  {
   "cell_type": "markdown",
   "metadata": {},
   "source": [
    "## UK Model"
   ]
  },
  {
   "cell_type": "markdown",
   "metadata": {},
   "source": [
    "## ITALIA Model"
   ]
  },
  {
   "cell_type": "markdown",
   "metadata": {},
   "source": [
    "## HUNGARY Model"
   ]
  },
  {
   "cell_type": "code",
   "execution_count": null,
   "metadata": {},
   "outputs": [],
   "source": []
  }
 ],
 "metadata": {
  "kernelspec": {
   "display_name": "python311",
   "language": "python",
   "name": "python3"
  },
  "language_info": {
   "codemirror_mode": {
    "name": "ipython",
    "version": 3
   },
   "file_extension": ".py",
   "mimetype": "text/x-python",
   "name": "python",
   "nbconvert_exporter": "python",
   "pygments_lexer": "ipython3",
   "version": "3.11.4"
  }
 },
 "nbformat": 4,
 "nbformat_minor": 2
}
