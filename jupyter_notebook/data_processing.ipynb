{
 "cells": [
  {
   "cell_type": "markdown",
   "id": "56659b64",
   "metadata": {},
   "source": [
    "<center>\n",
    "<font style=\"font-family: 'Helvetica'\" color=\"blue\" size=\"5\">\n",
    "<b>Schneider Electric European Hackaton 2023 </b><br>\n",
    "</font>\n",
    "<br>\n",
    "</center>"
   ]
  },
  {
   "cell_type": "markdown",
   "id": "eca518bc",
   "metadata": {},
   "source": [
    "<font style=\"font-family: 'Helvetica'\" color=\"blue\" size=\"4\">\n",
    "    <b>Machine Dreamers Team </b><br>\n",
    "</font>\n",
    "<br>\n",
    "\n",
    "\n",
    "<font style=\"font-family: 'Helvetica'\" color=\"blue\" size=\"2\">\n",
    "<b>\n",
    "Daniel Espinoza <br>\n",
    "Juan Neuenschwander <br>\n",
    "Pablo Ruiz<br>\n",
    "    </b>   \n",
    "</font>\n",
    "\n",
    "    \n",
    "\n",
    "    \n",
    "\n"
   ]
  },
  {
   "cell_type": "markdown",
   "id": "9107573d",
   "metadata": {},
   "source": [
    "<center>\n",
    "\n",
    "# Data Processing\n",
    "    \n",
    "</center>\n"
   ]
  },
  {
   "cell_type": "code",
   "execution_count": 164,
   "id": "975fbcca",
   "metadata": {},
   "outputs": [],
   "source": [
    "# Setting up libraries\n",
    "#!pip install pandas\n",
    "#!pip install json"
   ]
  },
  {
   "cell_type": "code",
   "execution_count": 193,
   "id": "c4c33f2e",
   "metadata": {},
   "outputs": [],
   "source": [
    "# Imports\n",
    "import os\n",
    "import pandas as pd\n",
    "import re\n",
    "import json\n",
    "import matplotlib.pyplot as plt\n",
    "from functools import reduce"
   ]
  },
  {
   "cell_type": "markdown",
   "id": "5516ef58",
   "metadata": {},
   "source": [
    "### Reading CSV Files"
   ]
  },
  {
   "cell_type": "markdown",
   "id": "d3c21235",
   "metadata": {},
   "source": [
    "First, we need to define the folder that contains every .csv file we want to read. This folder will include every file downloaded by the data ingestion code."
   ]
  },
  {
   "cell_type": "code",
   "execution_count": 166,
   "id": "e2d5b83b",
   "metadata": {},
   "outputs": [],
   "source": [
    "#Directory where raw CSV datasets are stored\n",
    "directory = \"../jupyter_notebook/data_samples\""
   ]
  },
  {
   "cell_type": "markdown",
   "id": "0abc2dfd",
   "metadata": {},
   "source": [
    "We retrieve information to examine the datasets that the data ingestion code is downloading."
   ]
  },
  {
   "cell_type": "code",
   "execution_count": 167,
   "id": "0f81af61",
   "metadata": {
    "scrolled": true
   },
   "outputs": [
    {
     "name": "stdout",
     "output_type": "stream",
     "text": [
      "-----\u001b[1mFiles Information\u001b[0m-----\n",
      "Total Files \"gen\": 105\n",
      "Total Files \"load\": 9\n",
      "\n",
      "-----\u001b[1mCountries Information\u001b[0m-----\n",
      "Number of countries: 9\n",
      "Countries: ['PO', 'DK', 'UK', 'DE', 'SP', 'HU', 'IT', 'NE', 'SE'] \n",
      "\n",
      "-----\u001b[1mEnergy Type Information\u001b[0m-----\n",
      "Number of energy type: 20\n",
      "Energy Type: ['B05', 'B08', 'B20', 'B07', 'B19', 'B16', 'B13', 'B17', 'B06', 'B15', 'B01', 'B02', 'B10', 'B14', 'B12', 'B09', 'B03', 'B04', 'B11', 'B18']\n"
     ]
    }
   ],
   "source": [
    "#Counters\n",
    "counter_gen = 0\n",
    "counter_load = 0\n",
    "\n",
    "#Reading all .csv files in the specified directory. \n",
    "files = [archivo for archivo in os.listdir(directory) if archivo.endswith('.csv')]\n",
    "\n",
    "# Itera sobre los archivos y cuenta según el prefijo\n",
    "for file in files:\n",
    "    if file.startswith('gen'):\n",
    "        counter_gen += 1\n",
    "    elif file.startswith('load'):\n",
    "        counter_load += 1\n",
    "\n",
    "unique_countries = set()\n",
    "unique_type_energy = set()\n",
    "\n",
    "# Itera sobre los archivos y extrae información\n",
    "for file in files:\n",
    "    if file.startswith('gen'):\n",
    "        # Divide el nombre del archivo en partes usando '_' como separador\n",
    "        parts = file.split('_')\n",
    "        \n",
    "        # Asegúrate de que haya suficientes partes y que el formato sea correcto\n",
    "        if len(parts) == 3 and parts[0] == 'gen':\n",
    "            country = parts[1]\n",
    "            energy_tpye = parts[2].split('.')[0]  # Elimina la extensión .csv\n",
    "            unique_countries.add(country)\n",
    "            unique_type_energy.add(energy_tpye)\n",
    "\n",
    "# Imprime los resultados\n",
    "print(\"-----\"+\"\\033[1m\" +\"Files Information\" + \"\\033[0m\"+\"-----\")\n",
    "print(f'Total Files \"gen\": {counter_gen}')\n",
    "print(f'Total Files \"load\": {counter_load}'+\"\\n\")\n",
    "print(\"-----\"+\"\\033[1m\" +\"Countries Information\" + \"\\033[0m\"+\"-----\")\n",
    "print('Number of countries:', len(list(unique_countries)))\n",
    "print('Countries:', list(unique_countries),\"\\n\")\n",
    "print(\"-----\"+\"\\033[1m\" +\"Energy Type Information\" + \"\\033[0m\"+\"-----\")\n",
    "print('Number of energy type:', len(list(unique_type_energy)))\n",
    "print('Energy Type:', list(unique_type_energy))\n"
   ]
  },
  {
   "cell_type": "markdown",
   "id": "97ec6ae2",
   "metadata": {},
   "source": [
    "As seen above, there are multiple files for generation and nine for load. We can infer that the generation is categorized by the type of energy (20 types of energy datasets) and countries (9 countries)."
   ]
  },
  {
   "cell_type": "markdown",
   "id": "0df932c3",
   "metadata": {},
   "source": [
    "### Initial Exploration Data Analysis - Generation Files"
   ]
  },
  {
   "cell_type": "markdown",
   "id": "c3c2709a",
   "metadata": {},
   "source": [
    "We know that to obtain the number of complete hourly data points for a year, according to the dataset's periodicity, we will need the data quantity as indicated in the following table:"
   ]
  },
  {
   "cell_type": "markdown",
   "id": "59908425",
   "metadata": {},
   "source": [
    "| Number of Samples | Periodicity |\n",
    "|:---------:|:--------:|\n",
    "|  35,040 | 15 minutes |\n",
    "|  17,462 | 30 minutes | \n",
    "|  8,760  | 60 minutes | \n",
    "\n"
   ]
  },
  {
   "cell_type": "markdown",
   "id": "2feb1670",
   "metadata": {},
   "source": [
    "We read one of the files as an example to show how the exploration was."
   ]
  },
  {
   "cell_type": "code",
   "execution_count": 168,
   "id": "4ada1e3c",
   "metadata": {},
   "outputs": [],
   "source": [
    "# Reading one specific sample\n",
    "filename='gen_DE_B19'\n",
    "\n",
    "sample = pd.read_csv(f\"../jupyter_notebook/data_samples/{filename}.csv\")\n",
    "\n",
    "# We save the name of country and type of energy from the filename.\n",
    "_, country, energy_type = filename.split('_')\n",
    "energy_type = energy_type.replace('.csv', '') # Remove the file extension"
   ]
  },
  {
   "cell_type": "code",
   "execution_count": 169,
   "id": "72397984",
   "metadata": {},
   "outputs": [],
   "source": [
    "#We create two columns to indentify the country and type of energy\n",
    "sample['CountryCode'] = country\n",
    "sample['EnergyTypeCode'] = energy_type"
   ]
  },
  {
   "cell_type": "markdown",
   "id": "07eeb6a3",
   "metadata": {},
   "source": [
    "When we see the number of rows, we can notice that we have the double of rows neccesary for having complete information for 15 minutes periodicity, so we can infer that the whole data is duplicateed."
   ]
  },
  {
   "cell_type": "code",
   "execution_count": 170,
   "id": "383d117c",
   "metadata": {},
   "outputs": [
    {
     "data": {
      "text/plain": [
       "(70080, 8)"
      ]
     },
     "execution_count": 170,
     "metadata": {},
     "output_type": "execute_result"
    }
   ],
   "source": [
    "# Number of rows and columns.\n",
    "sample.shape"
   ]
  },
  {
   "cell_type": "markdown",
   "id": "284b32f1",
   "metadata": {},
   "source": [
    "We print the dataframe so we can explore the structure and the type of values of the variables."
   ]
  },
  {
   "cell_type": "code",
   "execution_count": 171,
   "id": "a5c5e56e",
   "metadata": {},
   "outputs": [
    {
     "data": {
      "text/html": [
       "<div>\n",
       "<style scoped>\n",
       "    .dataframe tbody tr th:only-of-type {\n",
       "        vertical-align: middle;\n",
       "    }\n",
       "\n",
       "    .dataframe tbody tr th {\n",
       "        vertical-align: top;\n",
       "    }\n",
       "\n",
       "    .dataframe thead th {\n",
       "        text-align: right;\n",
       "    }\n",
       "</style>\n",
       "<table border=\"1\" class=\"dataframe\">\n",
       "  <thead>\n",
       "    <tr style=\"text-align: right;\">\n",
       "      <th></th>\n",
       "      <th>StartTime</th>\n",
       "      <th>EndTime</th>\n",
       "      <th>AreaID</th>\n",
       "      <th>UnitName</th>\n",
       "      <th>PsrType</th>\n",
       "      <th>quantity</th>\n",
       "      <th>CountryCode</th>\n",
       "      <th>EnergyTypeCode</th>\n",
       "    </tr>\n",
       "  </thead>\n",
       "  <tbody>\n",
       "    <tr>\n",
       "      <th>0</th>\n",
       "      <td>2021-12-31T23:45+00:00Z</td>\n",
       "      <td>2022-01-01T00:00+00:00Z</td>\n",
       "      <td>10Y1001A1001A83F</td>\n",
       "      <td>MAW</td>\n",
       "      <td>B19</td>\n",
       "      <td>24850</td>\n",
       "      <td>DE</td>\n",
       "      <td>B19</td>\n",
       "    </tr>\n",
       "    <tr>\n",
       "      <th>1</th>\n",
       "      <td>2022-01-01T00:00+00:00Z</td>\n",
       "      <td>2022-01-01T00:15+00:00Z</td>\n",
       "      <td>10Y1001A1001A83F</td>\n",
       "      <td>MAW</td>\n",
       "      <td>B19</td>\n",
       "      <td>24604</td>\n",
       "      <td>DE</td>\n",
       "      <td>B19</td>\n",
       "    </tr>\n",
       "    <tr>\n",
       "      <th>2</th>\n",
       "      <td>2022-01-01T00:15+00:00Z</td>\n",
       "      <td>2022-01-01T00:30+00:00Z</td>\n",
       "      <td>10Y1001A1001A83F</td>\n",
       "      <td>MAW</td>\n",
       "      <td>B19</td>\n",
       "      <td>24177</td>\n",
       "      <td>DE</td>\n",
       "      <td>B19</td>\n",
       "    </tr>\n",
       "    <tr>\n",
       "      <th>3</th>\n",
       "      <td>2022-01-01T00:30+00:00Z</td>\n",
       "      <td>2022-01-01T00:45+00:00Z</td>\n",
       "      <td>10Y1001A1001A83F</td>\n",
       "      <td>MAW</td>\n",
       "      <td>B19</td>\n",
       "      <td>23491</td>\n",
       "      <td>DE</td>\n",
       "      <td>B19</td>\n",
       "    </tr>\n",
       "    <tr>\n",
       "      <th>4</th>\n",
       "      <td>2022-01-01T00:45+00:00Z</td>\n",
       "      <td>2022-01-01T01:00+00:00Z</td>\n",
       "      <td>10Y1001A1001A83F</td>\n",
       "      <td>MAW</td>\n",
       "      <td>B19</td>\n",
       "      <td>23528</td>\n",
       "      <td>DE</td>\n",
       "      <td>B19</td>\n",
       "    </tr>\n",
       "    <tr>\n",
       "      <th>...</th>\n",
       "      <td>...</td>\n",
       "      <td>...</td>\n",
       "      <td>...</td>\n",
       "      <td>...</td>\n",
       "      <td>...</td>\n",
       "      <td>...</td>\n",
       "      <td>...</td>\n",
       "      <td>...</td>\n",
       "    </tr>\n",
       "    <tr>\n",
       "      <th>70075</th>\n",
       "      <td>2022-12-31T22:30+00:00Z</td>\n",
       "      <td>2022-12-31T22:45+00:00Z</td>\n",
       "      <td>NaN</td>\n",
       "      <td>MAW</td>\n",
       "      <td>B19</td>\n",
       "      <td>0</td>\n",
       "      <td>DE</td>\n",
       "      <td>B19</td>\n",
       "    </tr>\n",
       "    <tr>\n",
       "      <th>70076</th>\n",
       "      <td>2022-12-31T22:45+00:00Z</td>\n",
       "      <td>2022-12-31T23:00+00:00Z</td>\n",
       "      <td>NaN</td>\n",
       "      <td>MAW</td>\n",
       "      <td>B19</td>\n",
       "      <td>0</td>\n",
       "      <td>DE</td>\n",
       "      <td>B19</td>\n",
       "    </tr>\n",
       "    <tr>\n",
       "      <th>70077</th>\n",
       "      <td>2022-12-31T23:00+00:00Z</td>\n",
       "      <td>2022-12-31T23:15+00:00Z</td>\n",
       "      <td>NaN</td>\n",
       "      <td>MAW</td>\n",
       "      <td>B19</td>\n",
       "      <td>0</td>\n",
       "      <td>DE</td>\n",
       "      <td>B19</td>\n",
       "    </tr>\n",
       "    <tr>\n",
       "      <th>70078</th>\n",
       "      <td>2022-12-31T23:15+00:00Z</td>\n",
       "      <td>2022-12-31T23:30+00:00Z</td>\n",
       "      <td>NaN</td>\n",
       "      <td>MAW</td>\n",
       "      <td>B19</td>\n",
       "      <td>0</td>\n",
       "      <td>DE</td>\n",
       "      <td>B19</td>\n",
       "    </tr>\n",
       "    <tr>\n",
       "      <th>70079</th>\n",
       "      <td>2022-12-31T23:30+00:00Z</td>\n",
       "      <td>2022-12-31T23:45+00:00Z</td>\n",
       "      <td>NaN</td>\n",
       "      <td>MAW</td>\n",
       "      <td>B19</td>\n",
       "      <td>0</td>\n",
       "      <td>DE</td>\n",
       "      <td>B19</td>\n",
       "    </tr>\n",
       "  </tbody>\n",
       "</table>\n",
       "<p>70080 rows × 8 columns</p>\n",
       "</div>"
      ],
      "text/plain": [
       "                     StartTime                  EndTime            AreaID  \\\n",
       "0      2021-12-31T23:45+00:00Z  2022-01-01T00:00+00:00Z  10Y1001A1001A83F   \n",
       "1      2022-01-01T00:00+00:00Z  2022-01-01T00:15+00:00Z  10Y1001A1001A83F   \n",
       "2      2022-01-01T00:15+00:00Z  2022-01-01T00:30+00:00Z  10Y1001A1001A83F   \n",
       "3      2022-01-01T00:30+00:00Z  2022-01-01T00:45+00:00Z  10Y1001A1001A83F   \n",
       "4      2022-01-01T00:45+00:00Z  2022-01-01T01:00+00:00Z  10Y1001A1001A83F   \n",
       "...                        ...                      ...               ...   \n",
       "70075  2022-12-31T22:30+00:00Z  2022-12-31T22:45+00:00Z               NaN   \n",
       "70076  2022-12-31T22:45+00:00Z  2022-12-31T23:00+00:00Z               NaN   \n",
       "70077  2022-12-31T23:00+00:00Z  2022-12-31T23:15+00:00Z               NaN   \n",
       "70078  2022-12-31T23:15+00:00Z  2022-12-31T23:30+00:00Z               NaN   \n",
       "70079  2022-12-31T23:30+00:00Z  2022-12-31T23:45+00:00Z               NaN   \n",
       "\n",
       "      UnitName PsrType  quantity CountryCode EnergyTypeCode  \n",
       "0          MAW     B19     24850          DE            B19  \n",
       "1          MAW     B19     24604          DE            B19  \n",
       "2          MAW     B19     24177          DE            B19  \n",
       "3          MAW     B19     23491          DE            B19  \n",
       "4          MAW     B19     23528          DE            B19  \n",
       "...        ...     ...       ...         ...            ...  \n",
       "70075      MAW     B19         0          DE            B19  \n",
       "70076      MAW     B19         0          DE            B19  \n",
       "70077      MAW     B19         0          DE            B19  \n",
       "70078      MAW     B19         0          DE            B19  \n",
       "70079      MAW     B19         0          DE            B19  \n",
       "\n",
       "[70080 rows x 8 columns]"
      ]
     },
     "execution_count": 171,
     "metadata": {},
     "output_type": "execute_result"
    }
   ],
   "source": [
    "# Printing a sample\n",
    "sample"
   ]
  },
  {
   "cell_type": "markdown",
   "id": "803b53d7",
   "metadata": {},
   "source": [
    "As we can see we have some NaN values with dates that seems to be duplicated, we will count number of values for each \"EndTime\" value."
   ]
  },
  {
   "cell_type": "code",
   "execution_count": 172,
   "id": "4b17e47a",
   "metadata": {},
   "outputs": [
    {
     "data": {
      "text/html": [
       "<div>\n",
       "<style scoped>\n",
       "    .dataframe tbody tr th:only-of-type {\n",
       "        vertical-align: middle;\n",
       "    }\n",
       "\n",
       "    .dataframe tbody tr th {\n",
       "        vertical-align: top;\n",
       "    }\n",
       "\n",
       "    .dataframe thead th {\n",
       "        text-align: right;\n",
       "    }\n",
       "</style>\n",
       "<table border=\"1\" class=\"dataframe\">\n",
       "  <thead>\n",
       "    <tr style=\"text-align: right;\">\n",
       "      <th></th>\n",
       "      <th>StartTime</th>\n",
       "      <th>AreaID</th>\n",
       "      <th>UnitName</th>\n",
       "      <th>PsrType</th>\n",
       "      <th>quantity</th>\n",
       "      <th>CountryCode</th>\n",
       "      <th>EnergyTypeCode</th>\n",
       "    </tr>\n",
       "    <tr>\n",
       "      <th>EndTime</th>\n",
       "      <th></th>\n",
       "      <th></th>\n",
       "      <th></th>\n",
       "      <th></th>\n",
       "      <th></th>\n",
       "      <th></th>\n",
       "      <th></th>\n",
       "    </tr>\n",
       "  </thead>\n",
       "  <tbody>\n",
       "    <tr>\n",
       "      <th>2022-01-01T00:00+00:00Z</th>\n",
       "      <td>2</td>\n",
       "      <td>1</td>\n",
       "      <td>2</td>\n",
       "      <td>2</td>\n",
       "      <td>2</td>\n",
       "      <td>2</td>\n",
       "      <td>2</td>\n",
       "    </tr>\n",
       "    <tr>\n",
       "      <th>2022-01-01T00:15+00:00Z</th>\n",
       "      <td>2</td>\n",
       "      <td>1</td>\n",
       "      <td>2</td>\n",
       "      <td>2</td>\n",
       "      <td>2</td>\n",
       "      <td>2</td>\n",
       "      <td>2</td>\n",
       "    </tr>\n",
       "    <tr>\n",
       "      <th>2022-01-01T00:30+00:00Z</th>\n",
       "      <td>2</td>\n",
       "      <td>1</td>\n",
       "      <td>2</td>\n",
       "      <td>2</td>\n",
       "      <td>2</td>\n",
       "      <td>2</td>\n",
       "      <td>2</td>\n",
       "    </tr>\n",
       "    <tr>\n",
       "      <th>2022-01-01T00:45+00:00Z</th>\n",
       "      <td>2</td>\n",
       "      <td>1</td>\n",
       "      <td>2</td>\n",
       "      <td>2</td>\n",
       "      <td>2</td>\n",
       "      <td>2</td>\n",
       "      <td>2</td>\n",
       "    </tr>\n",
       "    <tr>\n",
       "      <th>2022-01-01T01:00+00:00Z</th>\n",
       "      <td>2</td>\n",
       "      <td>1</td>\n",
       "      <td>2</td>\n",
       "      <td>2</td>\n",
       "      <td>2</td>\n",
       "      <td>2</td>\n",
       "      <td>2</td>\n",
       "    </tr>\n",
       "  </tbody>\n",
       "</table>\n",
       "</div>"
      ],
      "text/plain": [
       "                         StartTime  AreaID  UnitName  PsrType  quantity  \\\n",
       "EndTime                                                                   \n",
       "2022-01-01T00:00+00:00Z          2       1         2        2         2   \n",
       "2022-01-01T00:15+00:00Z          2       1         2        2         2   \n",
       "2022-01-01T00:30+00:00Z          2       1         2        2         2   \n",
       "2022-01-01T00:45+00:00Z          2       1         2        2         2   \n",
       "2022-01-01T01:00+00:00Z          2       1         2        2         2   \n",
       "\n",
       "                         CountryCode  EnergyTypeCode  \n",
       "EndTime                                               \n",
       "2022-01-01T00:00+00:00Z            2               2  \n",
       "2022-01-01T00:15+00:00Z            2               2  \n",
       "2022-01-01T00:30+00:00Z            2               2  \n",
       "2022-01-01T00:45+00:00Z            2               2  \n",
       "2022-01-01T01:00+00:00Z            2               2  "
      ]
     },
     "execution_count": 172,
     "metadata": {},
     "output_type": "execute_result"
    }
   ],
   "source": [
    "# Grouping by to see if the values are repeated\n",
    "sample.groupby('EndTime').count().head(5)"
   ]
  },
  {
   "cell_type": "markdown",
   "id": "5436ab03",
   "metadata": {},
   "source": [
    "We see that we have duplicated values for all the dataframe so we will drop the NaN values and stay with the ones that have the complete information."
   ]
  },
  {
   "cell_type": "code",
   "execution_count": 173,
   "id": "bd20e883",
   "metadata": {},
   "outputs": [
    {
     "data": {
      "text/html": [
       "<div>\n",
       "<style scoped>\n",
       "    .dataframe tbody tr th:only-of-type {\n",
       "        vertical-align: middle;\n",
       "    }\n",
       "\n",
       "    .dataframe tbody tr th {\n",
       "        vertical-align: top;\n",
       "    }\n",
       "\n",
       "    .dataframe thead th {\n",
       "        text-align: right;\n",
       "    }\n",
       "</style>\n",
       "<table border=\"1\" class=\"dataframe\">\n",
       "  <thead>\n",
       "    <tr style=\"text-align: right;\">\n",
       "      <th></th>\n",
       "      <th>StartTime</th>\n",
       "      <th>AreaID</th>\n",
       "      <th>UnitName</th>\n",
       "      <th>PsrType</th>\n",
       "      <th>quantity</th>\n",
       "      <th>CountryCode</th>\n",
       "      <th>EnergyTypeCode</th>\n",
       "    </tr>\n",
       "    <tr>\n",
       "      <th>EndTime</th>\n",
       "      <th></th>\n",
       "      <th></th>\n",
       "      <th></th>\n",
       "      <th></th>\n",
       "      <th></th>\n",
       "      <th></th>\n",
       "      <th></th>\n",
       "    </tr>\n",
       "  </thead>\n",
       "  <tbody>\n",
       "    <tr>\n",
       "      <th>2022-01-01T00:00+00:00Z</th>\n",
       "      <td>1</td>\n",
       "      <td>1</td>\n",
       "      <td>1</td>\n",
       "      <td>1</td>\n",
       "      <td>1</td>\n",
       "      <td>1</td>\n",
       "      <td>1</td>\n",
       "    </tr>\n",
       "    <tr>\n",
       "      <th>2022-01-01T00:15+00:00Z</th>\n",
       "      <td>1</td>\n",
       "      <td>1</td>\n",
       "      <td>1</td>\n",
       "      <td>1</td>\n",
       "      <td>1</td>\n",
       "      <td>1</td>\n",
       "      <td>1</td>\n",
       "    </tr>\n",
       "    <tr>\n",
       "      <th>2022-01-01T00:30+00:00Z</th>\n",
       "      <td>1</td>\n",
       "      <td>1</td>\n",
       "      <td>1</td>\n",
       "      <td>1</td>\n",
       "      <td>1</td>\n",
       "      <td>1</td>\n",
       "      <td>1</td>\n",
       "    </tr>\n",
       "    <tr>\n",
       "      <th>2022-01-01T00:45+00:00Z</th>\n",
       "      <td>1</td>\n",
       "      <td>1</td>\n",
       "      <td>1</td>\n",
       "      <td>1</td>\n",
       "      <td>1</td>\n",
       "      <td>1</td>\n",
       "      <td>1</td>\n",
       "    </tr>\n",
       "    <tr>\n",
       "      <th>2022-01-01T01:00+00:00Z</th>\n",
       "      <td>1</td>\n",
       "      <td>1</td>\n",
       "      <td>1</td>\n",
       "      <td>1</td>\n",
       "      <td>1</td>\n",
       "      <td>1</td>\n",
       "      <td>1</td>\n",
       "    </tr>\n",
       "  </tbody>\n",
       "</table>\n",
       "</div>"
      ],
      "text/plain": [
       "                         StartTime  AreaID  UnitName  PsrType  quantity  \\\n",
       "EndTime                                                                   \n",
       "2022-01-01T00:00+00:00Z          1       1         1        1         1   \n",
       "2022-01-01T00:15+00:00Z          1       1         1        1         1   \n",
       "2022-01-01T00:30+00:00Z          1       1         1        1         1   \n",
       "2022-01-01T00:45+00:00Z          1       1         1        1         1   \n",
       "2022-01-01T01:00+00:00Z          1       1         1        1         1   \n",
       "\n",
       "                         CountryCode  EnergyTypeCode  \n",
       "EndTime                                               \n",
       "2022-01-01T00:00+00:00Z            1               1  \n",
       "2022-01-01T00:15+00:00Z            1               1  \n",
       "2022-01-01T00:30+00:00Z            1               1  \n",
       "2022-01-01T00:45+00:00Z            1               1  \n",
       "2022-01-01T01:00+00:00Z            1               1  "
      ]
     },
     "execution_count": 173,
     "metadata": {},
     "output_type": "execute_result"
    }
   ],
   "source": [
    "#Dropping the repeated values and checking\n",
    "sample.dropna(inplace=True)\n",
    "sample.groupby('EndTime').count().head(5)"
   ]
  },
  {
   "cell_type": "markdown",
   "id": "08bd8c1e",
   "metadata": {},
   "source": [
    "Now we can see that the amount of values that the dataset have is the amount of values corresponding to 15 minutes periodicity , this means that if we resample we will have the complete information for a year."
   ]
  },
  {
   "cell_type": "code",
   "execution_count": 174,
   "id": "4a8079c3",
   "metadata": {},
   "outputs": [
    {
     "data": {
      "text/plain": [
       "(35040, 8)"
      ]
     },
     "execution_count": 174,
     "metadata": {},
     "output_type": "execute_result"
    }
   ],
   "source": [
    "# Number of rows and columns after cleaning duplicates\n",
    "sample.shape"
   ]
  },
  {
   "cell_type": "markdown",
   "id": "90a6a9ab",
   "metadata": {},
   "source": [
    "We will print the data type for each variable, but we think the structure should be like this:"
   ]
  },
  {
   "cell_type": "markdown",
   "id": "2d229e40",
   "metadata": {},
   "source": [
    "| Name of the variable | Data Type | Definition |\n",
    "|:---------:|:--------:|:--------:|\n",
    "|  StartTime | datetime | Start Time of the measure of the energy |\n",
    "|  EndTime | datetime | End Time of the measure of the energy |\n",
    "|  AreaID  | string | ID of the area we are measuring |\n",
    "|  UnitName  | string | Unit of Measure (MAW: Megawatt)  |\n",
    "|  PsrType  | string | Type of energy |\n",
    "|  quantity  | int64 | Amount of energy (MAW) |\n",
    "\n",
    "\n"
   ]
  },
  {
   "cell_type": "code",
   "execution_count": 175,
   "id": "630b2647",
   "metadata": {},
   "outputs": [
    {
     "name": "stdout",
     "output_type": "stream",
     "text": [
      "<class 'pandas.core.frame.DataFrame'>\n",
      "Index: 35040 entries, 0 to 35039\n",
      "Data columns (total 8 columns):\n",
      " #   Column          Non-Null Count  Dtype \n",
      "---  ------          --------------  ----- \n",
      " 0   StartTime       35040 non-null  object\n",
      " 1   EndTime         35040 non-null  object\n",
      " 2   AreaID          35040 non-null  object\n",
      " 3   UnitName        35040 non-null  object\n",
      " 4   PsrType         35040 non-null  object\n",
      " 5   quantity        35040 non-null  int64 \n",
      " 6   CountryCode     35040 non-null  object\n",
      " 7   EnergyTypeCode  35040 non-null  object\n",
      "dtypes: int64(1), object(7)\n",
      "memory usage: 2.4+ MB\n"
     ]
    }
   ],
   "source": [
    "# Printing datatype and amount of values\n",
    "sample.info()"
   ]
  },
  {
   "cell_type": "markdown",
   "id": "67f096ef",
   "metadata": {},
   "source": [
    "We see that we have to change datatype for \"StartTime\" and \"EndTime\" to be datetime data type."
   ]
  },
  {
   "cell_type": "code",
   "execution_count": 176,
   "id": "96b5abe8",
   "metadata": {},
   "outputs": [],
   "source": [
    "#We define a date_parser, in this case we are omitting the time zone\n",
    "#information since all countries share the same time zone.\n",
    "date_parser = lambda x: pd.to_datetime(x[:22])"
   ]
  },
  {
   "cell_type": "code",
   "execution_count": 177,
   "id": "fdd2d695",
   "metadata": {},
   "outputs": [],
   "source": [
    "#Transform the column to datetime data type.\n",
    "sample['EndTime'] = sample['EndTime'].apply(lambda x: pd.to_datetime(x[:22]))\n",
    "\n",
    "#Transform the column to datetime data type.\n",
    "sample['StartTime'] = sample['StartTime'].apply(lambda x: pd.to_datetime(x[:22]))"
   ]
  },
  {
   "cell_type": "markdown",
   "id": "79e8cf98",
   "metadata": {},
   "source": [
    "We are going to detect in what periodicity is the dataset we are reading, if we have more than one periodicity in the dataset we will select the minimun."
   ]
  },
  {
   "cell_type": "markdown",
   "id": "dd870f40",
   "metadata": {},
   "source": [
    "For this first we are going to calculate a new column that contains the difference between the actual row and the previous row of the \"EndTime\" column."
   ]
  },
  {
   "cell_type": "code",
   "execution_count": 178,
   "id": "e025af58",
   "metadata": {},
   "outputs": [],
   "source": [
    "# Calculating the time difference in seconds, dividing by 60\n",
    "# to obtain minutes\n",
    "sample['TimeDifference'] = sample['EndTime'].diff().dt.total_seconds() / 60"
   ]
  },
  {
   "cell_type": "markdown",
   "id": "86f0a670",
   "metadata": {},
   "source": [
    " As we can see , the new column is giving us the periodicity (in this case 15 minutes) of the sample we are analyzing."
   ]
  },
  {
   "cell_type": "code",
   "execution_count": 179,
   "id": "afd7b285",
   "metadata": {},
   "outputs": [
    {
     "data": {
      "text/html": [
       "<div>\n",
       "<style scoped>\n",
       "    .dataframe tbody tr th:only-of-type {\n",
       "        vertical-align: middle;\n",
       "    }\n",
       "\n",
       "    .dataframe tbody tr th {\n",
       "        vertical-align: top;\n",
       "    }\n",
       "\n",
       "    .dataframe thead th {\n",
       "        text-align: right;\n",
       "    }\n",
       "</style>\n",
       "<table border=\"1\" class=\"dataframe\">\n",
       "  <thead>\n",
       "    <tr style=\"text-align: right;\">\n",
       "      <th></th>\n",
       "      <th>EndTime</th>\n",
       "      <th>TimeDifference</th>\n",
       "    </tr>\n",
       "  </thead>\n",
       "  <tbody>\n",
       "    <tr>\n",
       "      <th>0</th>\n",
       "      <td>2022-01-01 00:00:00+00:00</td>\n",
       "      <td>NaN</td>\n",
       "    </tr>\n",
       "    <tr>\n",
       "      <th>1</th>\n",
       "      <td>2022-01-01 00:15:00+00:00</td>\n",
       "      <td>15.0</td>\n",
       "    </tr>\n",
       "    <tr>\n",
       "      <th>2</th>\n",
       "      <td>2022-01-01 00:30:00+00:00</td>\n",
       "      <td>15.0</td>\n",
       "    </tr>\n",
       "    <tr>\n",
       "      <th>3</th>\n",
       "      <td>2022-01-01 00:45:00+00:00</td>\n",
       "      <td>15.0</td>\n",
       "    </tr>\n",
       "    <tr>\n",
       "      <th>4</th>\n",
       "      <td>2022-01-01 01:00:00+00:00</td>\n",
       "      <td>15.0</td>\n",
       "    </tr>\n",
       "  </tbody>\n",
       "</table>\n",
       "</div>"
      ],
      "text/plain": [
       "                    EndTime  TimeDifference\n",
       "0 2022-01-01 00:00:00+00:00             NaN\n",
       "1 2022-01-01 00:15:00+00:00            15.0\n",
       "2 2022-01-01 00:30:00+00:00            15.0\n",
       "3 2022-01-01 00:45:00+00:00            15.0\n",
       "4 2022-01-01 01:00:00+00:00            15.0"
      ]
     },
     "execution_count": 179,
     "metadata": {},
     "output_type": "execute_result"
    }
   ],
   "source": [
    "# Printing Time and Periodicity\n",
    "sample[['EndTime','TimeDifference']].head(5)"
   ]
  },
  {
   "cell_type": "markdown",
   "id": "e2f36f2a",
   "metadata": {},
   "source": [
    "Then we are going to select the minimum value of this column, which gives us our desired periodicity (15, 30, or 60 minutes)."
   ]
  },
  {
   "cell_type": "code",
   "execution_count": 180,
   "id": "391b1c00",
   "metadata": {},
   "outputs": [],
   "source": [
    "# Sampling period we are going to use to sample\n",
    "sampling_period = int(df.loc[(df['TimeDifference'] > 0) & (df['TimeDifference'] <= 60), 'TimeDifference'].min())"
   ]
  },
  {
   "cell_type": "code",
   "execution_count": 181,
   "id": "0e4f72a1",
   "metadata": {},
   "outputs": [],
   "source": [
    "# We have to set the EndTime as index so we can do the resampling.\n",
    "sample.set_index('EndTime', inplace=True)"
   ]
  },
  {
   "cell_type": "code",
   "execution_count": 182,
   "id": "e3451173",
   "metadata": {},
   "outputs": [],
   "source": [
    "#We change the type of \"sampling_period\" to string.\n",
    "sampling_period=str(sampling_period)\n",
    "\n",
    "# We use the sampling_period obtained to resample.\n",
    "sample = sample.resample(f'{sampling_period}T').asfreq()"
   ]
  },
  {
   "cell_type": "markdown",
   "id": "ebdfdaf6",
   "metadata": {},
   "source": [
    "Now that we have completed the series by filling in missing periods through resampling, the next step is to assign an hour value to each period. This will help us identify and handle periods with missing values. Additionally, if there are periods with no values, we can assume that there is no information available for those specific time intervals and choose not to include them in our analysis.\n",
    "\n",
    "To accomplish this, we have added a new column named 'Hour' to the DataFrame, which represents the hour of the day corresponding to each period. This additional information allows us to detect missing values more effectively and make informed decisions about how to handle them.\n",
    "\n",
    "With the 'Hour' column in place, we can proceed to analyze and address missing or incomplete data based on the hour information associated with each period."
   ]
  },
  {
   "cell_type": "code",
   "execution_count": 183,
   "id": "2c592c3a",
   "metadata": {},
   "outputs": [],
   "source": [
    "# Extracting the Date-Hour for each column (without minutes)\n",
    "sample['DateHour'] = sample.index.floor('H')"
   ]
  },
  {
   "cell_type": "code",
   "execution_count": 184,
   "id": "8efd4a2d",
   "metadata": {},
   "outputs": [],
   "source": [
    "# Reset index.\n",
    "sample.reset_index('EndTime', inplace=True)"
   ]
  },
  {
   "cell_type": "markdown",
   "id": "58bc439d",
   "metadata": {},
   "source": [
    "To identify whether a specific hour has missing values that need imputation or if it has no values and should be excluded from consideration, we will calculate a new column named \"HourlySum.\" This column will represent the accumulated \"quantity\" for each date-hour group.\n",
    "\n",
    "The \"HourlySum\" column is derived by summing the \"quantity\" values within each group defined by the combination of date and hour. This cumulative sum provides insights into the total quantity of energy for each specific date and hour. By analyzing the \"HourlySum\" column, we can efficiently identify periods with missing values or determine if certain hours have no recorded information.\n",
    "\n",
    "This information will guide us in making decisions about imputing missing values and handling periods with no available data.\n",
    "\n",
    "\n",
    "\n",
    "\n",
    "\n",
    "\n",
    "\n",
    "| Condition | Description | Action |\n",
    "|:---------:|:--------:|:--------:|\n",
    "|  HourlySum = 0 | No information for this group | Drop group |\n",
    "|  HourlySum > 0 | Group with information|  IF NaNs, impute. |\n",
    "\n"
   ]
  },
  {
   "cell_type": "code",
   "execution_count": 185,
   "id": "a2b8b9b3",
   "metadata": {},
   "outputs": [],
   "source": [
    "# Group by DateHour and accumulate values\n",
    "grouped_df = sample.groupby('DateHour')['quantity'].sum().reset_index()\n",
    "\n",
    "# Rename quantity with HourlySum\n",
    "grouped_df = grouped_df.rename(columns={'quantity': 'HourlySum'})\n",
    "\n",
    "# Merge the values we obtained to the principal dataframe\n",
    "sample = pd.merge(sample, grouped_df, how='left', left_on='DateHour', right_on='DateHour')"
   ]
  },
  {
   "cell_type": "markdown",
   "id": "3c334dd6",
   "metadata": {},
   "source": [
    "We stay with the values that have at least one value in the hour group (HourlySum !=0) and that are not NaN values (quantity!=NaN)"
   ]
  },
  {
   "cell_type": "code",
   "execution_count": 186,
   "id": "e0ca36b9",
   "metadata": {},
   "outputs": [],
   "source": [
    "# Filtering to obtain the existing values\n",
    "sample=sample[~((sample['quantity'].isnull())&(sample['HourlySum']==0))]"
   ]
  },
  {
   "cell_type": "markdown",
   "id": "6b05b5b8",
   "metadata": {},
   "source": [
    "Now we are going to use the function \"interpolate\" to impute the missing values using the nearest existing values"
   ]
  },
  {
   "cell_type": "code",
   "execution_count": 187,
   "id": "97676c71",
   "metadata": {},
   "outputs": [],
   "source": [
    "# Interpolate for imputing missing values\n",
    "sample.interpolate(method='linear', limit_direction='both', inplace=True)"
   ]
  },
  {
   "cell_type": "markdown",
   "id": "161496c6",
   "metadata": {},
   "source": [
    "We have to set EndTime as index again so this time we can resample for 1 hour periodicity "
   ]
  },
  {
   "cell_type": "code",
   "execution_count": 188,
   "id": "5ca7e240",
   "metadata": {},
   "outputs": [],
   "source": [
    "# Setting EndTime as index\n",
    "sample.set_index('EndTime',inplace=True)"
   ]
  },
  {
   "cell_type": "markdown",
   "id": "6f4bbc85",
   "metadata": {},
   "source": [
    "For resampling we are going to separate categorical columns and numerical columns, for numerical we will accumulate the values and for categorical we will choose the last value of the group."
   ]
  },
  {
   "cell_type": "code",
   "execution_count": 189,
   "id": "b077cbdf",
   "metadata": {},
   "outputs": [],
   "source": [
    "# Numeric columns\n",
    "numeric_cols = sample.select_dtypes(include=['number'])\n",
    "\n",
    "# Categoric columns\n",
    "categorical_cols = sample.select_dtypes(exclude=['number', 'datetime64[ns]', 'bool'])"
   ]
  },
  {
   "cell_type": "code",
   "execution_count": 190,
   "id": "5eebf194",
   "metadata": {},
   "outputs": [],
   "source": [
    "# Resample the numeric columns and sum\n",
    "resampled_df_num = numeric_cols.resample('H').sum()\n",
    "\n",
    "# Resample the categorical columns.\n",
    "# Here, we take the first value. Adjust the method \n",
    "# if needed (e.g., 'last', or a custom function to get the mode)\n",
    "resampled_df_cat= categorical_cols.resample('H').last()"
   ]
  },
  {
   "cell_type": "code",
   "execution_count": 191,
   "id": "aa6300dd",
   "metadata": {},
   "outputs": [],
   "source": [
    "# Resampled dataframe\n",
    "resampled_df = pd.concat([resampled_df_num, resampled_df_cat], axis=1)"
   ]
  },
  {
   "cell_type": "markdown",
   "id": "14a87c37",
   "metadata": {},
   "source": [
    "We can see that we have 8760 values (whole year data in hours) with the accumulated quantity of power consumption (MAW) per hour for one country and for one type of energy."
   ]
  },
  {
   "cell_type": "code",
   "execution_count": 203,
   "id": "81def5ed",
   "metadata": {},
   "outputs": [
    {
     "data": {
      "image/png": "[encoded data removed]",
      "text/plain": [
       "<Figure size 1200x600 with 1 Axes>"
      ]
     },
     "metadata": {},
     "output_type": "display_data"
    }
   ],
   "source": [
    "# Figure size\n",
    "fig, ax = plt.subplots(figsize=(12, 6))\n",
    "\n",
    "ax.plot(resampled_df.index, resampled_df['quantity'], label='Quantity')\n",
    "\n",
    "# Add grid lines\n",
    "ax.grid(True, linestyle='--', alpha=0.7)\n",
    "\n",
    "# Set ticks\n",
    "plt.xticks(rotation=45)  # Rotate x-axis labels for better visibility\n",
    "\n",
    "# Add labels and title\n",
    "ax.set_xlabel('Date and Hour')\n",
    "ax.set_ylabel('Amount Generated (MAW)')\n",
    "ax.set_title('Denmark Wind Onshore Energy Generation')\n",
    "\n",
    "# Add legend\n",
    "ax.legend()\n",
    "\n",
    "# Show the plot\n",
    "plt.show()\n"
   ]
  },
  {
   "cell_type": "code",
   "execution_count": 192,
   "id": "5cd3971a",
   "metadata": {},
   "outputs": [
    {
     "data": {
      "text/html": [
       "<div>\n",
       "<style scoped>\n",
       "    .dataframe tbody tr th:only-of-type {\n",
       "        vertical-align: middle;\n",
       "    }\n",
       "\n",
       "    .dataframe tbody tr th {\n",
       "        vertical-align: top;\n",
       "    }\n",
       "\n",
       "    .dataframe thead th {\n",
       "        text-align: right;\n",
       "    }\n",
       "</style>\n",
       "<table border=\"1\" class=\"dataframe\">\n",
       "  <thead>\n",
       "    <tr style=\"text-align: right;\">\n",
       "      <th></th>\n",
       "      <th>quantity</th>\n",
       "      <th>TimeDifference</th>\n",
       "      <th>HourlySum</th>\n",
       "      <th>StartTime</th>\n",
       "      <th>AreaID</th>\n",
       "      <th>UnitName</th>\n",
       "      <th>PsrType</th>\n",
       "      <th>CountryCode</th>\n",
       "      <th>EnergyTypeCode</th>\n",
       "      <th>DateHour</th>\n",
       "    </tr>\n",
       "    <tr>\n",
       "      <th>EndTime</th>\n",
       "      <th></th>\n",
       "      <th></th>\n",
       "      <th></th>\n",
       "      <th></th>\n",
       "      <th></th>\n",
       "      <th></th>\n",
       "      <th></th>\n",
       "      <th></th>\n",
       "      <th></th>\n",
       "      <th></th>\n",
       "    </tr>\n",
       "  </thead>\n",
       "  <tbody>\n",
       "    <tr>\n",
       "      <th>2022-01-01 00:00:00+00:00</th>\n",
       "      <td>97122</td>\n",
       "      <td>60.0</td>\n",
       "      <td>388488</td>\n",
       "      <td>2022-01-01 00:30:00+00:00</td>\n",
       "      <td>10Y1001A1001A83F</td>\n",
       "      <td>MAW</td>\n",
       "      <td>B19</td>\n",
       "      <td>DE</td>\n",
       "      <td>B19</td>\n",
       "      <td>2022-01-01 00:00:00+00:00</td>\n",
       "    </tr>\n",
       "    <tr>\n",
       "      <th>2022-01-01 01:00:00+00:00</th>\n",
       "      <td>92456</td>\n",
       "      <td>60.0</td>\n",
       "      <td>369824</td>\n",
       "      <td>2022-01-01 01:30:00+00:00</td>\n",
       "      <td>10Y1001A1001A83F</td>\n",
       "      <td>MAW</td>\n",
       "      <td>B19</td>\n",
       "      <td>DE</td>\n",
       "      <td>B19</td>\n",
       "      <td>2022-01-01 01:00:00+00:00</td>\n",
       "    </tr>\n",
       "    <tr>\n",
       "      <th>2022-01-01 02:00:00+00:00</th>\n",
       "      <td>87993</td>\n",
       "      <td>60.0</td>\n",
       "      <td>351972</td>\n",
       "      <td>2022-01-01 02:30:00+00:00</td>\n",
       "      <td>10Y1001A1001A83F</td>\n",
       "      <td>MAW</td>\n",
       "      <td>B19</td>\n",
       "      <td>DE</td>\n",
       "      <td>B19</td>\n",
       "      <td>2022-01-01 02:00:00+00:00</td>\n",
       "    </tr>\n",
       "    <tr>\n",
       "      <th>2022-01-01 03:00:00+00:00</th>\n",
       "      <td>81980</td>\n",
       "      <td>60.0</td>\n",
       "      <td>327920</td>\n",
       "      <td>2022-01-01 03:30:00+00:00</td>\n",
       "      <td>10Y1001A1001A83F</td>\n",
       "      <td>MAW</td>\n",
       "      <td>B19</td>\n",
       "      <td>DE</td>\n",
       "      <td>B19</td>\n",
       "      <td>2022-01-01 03:00:00+00:00</td>\n",
       "    </tr>\n",
       "    <tr>\n",
       "      <th>2022-01-01 04:00:00+00:00</th>\n",
       "      <td>77978</td>\n",
       "      <td>60.0</td>\n",
       "      <td>311912</td>\n",
       "      <td>2022-01-01 04:30:00+00:00</td>\n",
       "      <td>10Y1001A1001A83F</td>\n",
       "      <td>MAW</td>\n",
       "      <td>B19</td>\n",
       "      <td>DE</td>\n",
       "      <td>B19</td>\n",
       "      <td>2022-01-01 04:00:00+00:00</td>\n",
       "    </tr>\n",
       "    <tr>\n",
       "      <th>...</th>\n",
       "      <td>...</td>\n",
       "      <td>...</td>\n",
       "      <td>...</td>\n",
       "      <td>...</td>\n",
       "      <td>...</td>\n",
       "      <td>...</td>\n",
       "      <td>...</td>\n",
       "      <td>...</td>\n",
       "      <td>...</td>\n",
       "      <td>...</td>\n",
       "    </tr>\n",
       "    <tr>\n",
       "      <th>2022-12-31 19:00:00+00:00</th>\n",
       "      <td>122020</td>\n",
       "      <td>60.0</td>\n",
       "      <td>488080</td>\n",
       "      <td>2022-12-31 19:30:00+00:00</td>\n",
       "      <td>10Y1001A1001A83F</td>\n",
       "      <td>MAW</td>\n",
       "      <td>B19</td>\n",
       "      <td>DE</td>\n",
       "      <td>B19</td>\n",
       "      <td>2022-12-31 19:00:00+00:00</td>\n",
       "    </tr>\n",
       "    <tr>\n",
       "      <th>2022-12-31 20:00:00+00:00</th>\n",
       "      <td>123074</td>\n",
       "      <td>60.0</td>\n",
       "      <td>492296</td>\n",
       "      <td>2022-12-31 20:30:00+00:00</td>\n",
       "      <td>10Y1001A1001A83F</td>\n",
       "      <td>MAW</td>\n",
       "      <td>B19</td>\n",
       "      <td>DE</td>\n",
       "      <td>B19</td>\n",
       "      <td>2022-12-31 20:00:00+00:00</td>\n",
       "    </tr>\n",
       "    <tr>\n",
       "      <th>2022-12-31 21:00:00+00:00</th>\n",
       "      <td>121963</td>\n",
       "      <td>60.0</td>\n",
       "      <td>487852</td>\n",
       "      <td>2022-12-31 21:30:00+00:00</td>\n",
       "      <td>10Y1001A1001A83F</td>\n",
       "      <td>MAW</td>\n",
       "      <td>B19</td>\n",
       "      <td>DE</td>\n",
       "      <td>B19</td>\n",
       "      <td>2022-12-31 21:00:00+00:00</td>\n",
       "    </tr>\n",
       "    <tr>\n",
       "      <th>2022-12-31 22:00:00+00:00</th>\n",
       "      <td>117224</td>\n",
       "      <td>60.0</td>\n",
       "      <td>468896</td>\n",
       "      <td>2022-12-31 22:30:00+00:00</td>\n",
       "      <td>10Y1001A1001A83F</td>\n",
       "      <td>MAW</td>\n",
       "      <td>B19</td>\n",
       "      <td>DE</td>\n",
       "      <td>B19</td>\n",
       "      <td>2022-12-31 22:00:00+00:00</td>\n",
       "    </tr>\n",
       "    <tr>\n",
       "      <th>2022-12-31 23:00:00+00:00</th>\n",
       "      <td>114842</td>\n",
       "      <td>60.0</td>\n",
       "      <td>459368</td>\n",
       "      <td>2022-12-31 23:30:00+00:00</td>\n",
       "      <td>10Y1001A1001A83F</td>\n",
       "      <td>MAW</td>\n",
       "      <td>B19</td>\n",
       "      <td>DE</td>\n",
       "      <td>B19</td>\n",
       "      <td>2022-12-31 23:00:00+00:00</td>\n",
       "    </tr>\n",
       "  </tbody>\n",
       "</table>\n",
       "<p>8760 rows × 10 columns</p>\n",
       "</div>"
      ],
      "text/plain": [
       "                           quantity  TimeDifference  HourlySum  \\\n",
       "EndTime                                                          \n",
       "2022-01-01 00:00:00+00:00     97122            60.0     388488   \n",
       "2022-01-01 01:00:00+00:00     92456            60.0     369824   \n",
       "2022-01-01 02:00:00+00:00     87993            60.0     351972   \n",
       "2022-01-01 03:00:00+00:00     81980            60.0     327920   \n",
       "2022-01-01 04:00:00+00:00     77978            60.0     311912   \n",
       "...                             ...             ...        ...   \n",
       "2022-12-31 19:00:00+00:00    122020            60.0     488080   \n",
       "2022-12-31 20:00:00+00:00    123074            60.0     492296   \n",
       "2022-12-31 21:00:00+00:00    121963            60.0     487852   \n",
       "2022-12-31 22:00:00+00:00    117224            60.0     468896   \n",
       "2022-12-31 23:00:00+00:00    114842            60.0     459368   \n",
       "\n",
       "                                          StartTime            AreaID  \\\n",
       "EndTime                                                                 \n",
       "2022-01-01 00:00:00+00:00 2022-01-01 00:30:00+00:00  10Y1001A1001A83F   \n",
       "2022-01-01 01:00:00+00:00 2022-01-01 01:30:00+00:00  10Y1001A1001A83F   \n",
       "2022-01-01 02:00:00+00:00 2022-01-01 02:30:00+00:00  10Y1001A1001A83F   \n",
       "2022-01-01 03:00:00+00:00 2022-01-01 03:30:00+00:00  10Y1001A1001A83F   \n",
       "2022-01-01 04:00:00+00:00 2022-01-01 04:30:00+00:00  10Y1001A1001A83F   \n",
       "...                                             ...               ...   \n",
       "2022-12-31 19:00:00+00:00 2022-12-31 19:30:00+00:00  10Y1001A1001A83F   \n",
       "2022-12-31 20:00:00+00:00 2022-12-31 20:30:00+00:00  10Y1001A1001A83F   \n",
       "2022-12-31 21:00:00+00:00 2022-12-31 21:30:00+00:00  10Y1001A1001A83F   \n",
       "2022-12-31 22:00:00+00:00 2022-12-31 22:30:00+00:00  10Y1001A1001A83F   \n",
       "2022-12-31 23:00:00+00:00 2022-12-31 23:30:00+00:00  10Y1001A1001A83F   \n",
       "\n",
       "                          UnitName PsrType CountryCode EnergyTypeCode  \\\n",
       "EndTime                                                                 \n",
       "2022-01-01 00:00:00+00:00      MAW     B19          DE            B19   \n",
       "2022-01-01 01:00:00+00:00      MAW     B19          DE            B19   \n",
       "2022-01-01 02:00:00+00:00      MAW     B19          DE            B19   \n",
       "2022-01-01 03:00:00+00:00      MAW     B19          DE            B19   \n",
       "2022-01-01 04:00:00+00:00      MAW     B19          DE            B19   \n",
       "...                            ...     ...         ...            ...   \n",
       "2022-12-31 19:00:00+00:00      MAW     B19          DE            B19   \n",
       "2022-12-31 20:00:00+00:00      MAW     B19          DE            B19   \n",
       "2022-12-31 21:00:00+00:00      MAW     B19          DE            B19   \n",
       "2022-12-31 22:00:00+00:00      MAW     B19          DE            B19   \n",
       "2022-12-31 23:00:00+00:00      MAW     B19          DE            B19   \n",
       "\n",
       "                                           DateHour  \n",
       "EndTime                                              \n",
       "2022-01-01 00:00:00+00:00 2022-01-01 00:00:00+00:00  \n",
       "2022-01-01 01:00:00+00:00 2022-01-01 01:00:00+00:00  \n",
       "2022-01-01 02:00:00+00:00 2022-01-01 02:00:00+00:00  \n",
       "2022-01-01 03:00:00+00:00 2022-01-01 03:00:00+00:00  \n",
       "2022-01-01 04:00:00+00:00 2022-01-01 04:00:00+00:00  \n",
       "...                                             ...  \n",
       "2022-12-31 19:00:00+00:00 2022-12-31 19:00:00+00:00  \n",
       "2022-12-31 20:00:00+00:00 2022-12-31 20:00:00+00:00  \n",
       "2022-12-31 21:00:00+00:00 2022-12-31 21:00:00+00:00  \n",
       "2022-12-31 22:00:00+00:00 2022-12-31 22:00:00+00:00  \n",
       "2022-12-31 23:00:00+00:00 2022-12-31 23:00:00+00:00  \n",
       "\n",
       "[8760 rows x 10 columns]"
      ]
     },
     "execution_count": 192,
     "metadata": {},
     "output_type": "execute_result"
    }
   ],
   "source": [
    "resampled_df"
   ]
  },
  {
   "cell_type": "markdown",
   "id": "b9ce91dc",
   "metadata": {},
   "source": [
    "We are going to make this proccess for every generate file that we need to use and then add them all for each country so we can have the total generation of green energy for each country."
   ]
  },
  {
   "cell_type": "markdown",
   "id": "295a3f90",
   "metadata": {},
   "source": [
    "### Initial Exploration Data Analysis - Load Files"
   ]
  },
  {
   "cell_type": "code",
   "execution_count": 209,
   "id": "51d9ace1",
   "metadata": {},
   "outputs": [],
   "source": [
    "# Reading one specific sample\n",
    "filename='load_DE'\n",
    "\n",
    "sample_load = pd.read_csv(f\"../jupyter_notebook/data_samples/{filename}.csv\")\n",
    "\n",
    "# We save the name of country and type of energy from the filename.\n",
    "_, country = filename.split('_')\n",
    "country = country.replace('.csv', '') # Remove the file extension"
   ]
  },
  {
   "cell_type": "code",
   "execution_count": 210,
   "id": "69f8e15e",
   "metadata": {},
   "outputs": [
    {
     "data": {
      "text/plain": [
       "'DE'"
      ]
     },
     "execution_count": 210,
     "metadata": {},
     "output_type": "execute_result"
    }
   ],
   "source": [
    "country"
   ]
  },
  {
   "cell_type": "code",
   "execution_count": null,
   "id": "3c37d13f",
   "metadata": {},
   "outputs": [],
   "source": []
  },
  {
   "cell_type": "code",
   "execution_count": null,
   "id": "087d45bb",
   "metadata": {},
   "outputs": [],
   "source": []
  },
  {
   "cell_type": "code",
   "execution_count": null,
   "id": "a9db6f56",
   "metadata": {},
   "outputs": [],
   "source": []
  }
 ],
 "metadata": {
  "kernelspec": {
   "display_name": "Python 3 (ipykernel)",
   "language": "python",
   "name": "python3"
  },
  "language_info": {
   "codemirror_mode": {
    "name": "ipython",
    "version": 3
   },
   "file_extension": ".py",
   "mimetype": "text/x-python",
   "name": "python",
   "nbconvert_exporter": "python",
   "pygments_lexer": "ipython3",
   "version": "3.11.5"
  }
 },
 "nbformat": 4,
 "nbformat_minor": 5
}
